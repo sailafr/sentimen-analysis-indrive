{
  "nbformat": 4,
  "nbformat_minor": 0,
  "metadata": {
    "colab": {
      "provenance": []
    },
    "kernelspec": {
      "name": "python3",
      "display_name": "Python 3"
    },
    "language_info": {
      "name": "python"
    }
  },
  "cells": [
    {
      "cell_type": "markdown",
      "source": [
        "#Pengambilan Data Penelitian"
      ],
      "metadata": {
        "id": "AllbCNl1-6at"
      }
    },
    {
      "cell_type": "code",
      "execution_count": null,
      "metadata": {
        "colab": {
          "base_uri": "https://localhost:8080/"
        },
        "id": "ctXbMmJAi6Ar",
        "outputId": "a398b837-5408-4ddd-dfef-3a23c5d190bf"
      },
      "outputs": [
        {
          "output_type": "stream",
          "name": "stdout",
          "text": [
            "Collecting google-play-scraper\n",
            "  Downloading google_play_scraper-1.2.7-py3-none-any.whl.metadata (50 kB)\n",
            "\u001b[?25l     \u001b[90m━━━━━━━━━━━━━━━━━━━━━━━━━━━━━━━━━━━━━━━━\u001b[0m \u001b[32m0.0/50.2 kB\u001b[0m \u001b[31m?\u001b[0m eta \u001b[36m-:--:--\u001b[0m\r\u001b[2K     \u001b[90m━━━━━━━━━━━━━━━━━━━━━━━━━━━━━━━━━━━━━━━━\u001b[0m \u001b[32m50.2/50.2 kB\u001b[0m \u001b[31m1.8 MB/s\u001b[0m eta \u001b[36m0:00:00\u001b[0m\n",
            "\u001b[?25hDownloading google_play_scraper-1.2.7-py3-none-any.whl (28 kB)\n",
            "Installing collected packages: google-play-scraper\n",
            "Successfully installed google-play-scraper-1.2.7\n"
          ]
        }
      ],
      "source": [
        "!pip install google-play-scraper"
      ]
    },
    {
      "cell_type": "code",
      "source": [
        "import pandas as pd\n",
        "from google_play_scraper import Sort, reviews\n",
        "from datetime import datetime\n",
        "import time\n",
        "\n",
        "def fetch_reviews_within_date_range(app_id, lang, country, sort, start_date, end_date):\n",
        "    all_reviews = []\n",
        "    continuation_token = None\n",
        "    while True:\n",
        "        result, continuation_token = reviews(\n",
        "            app_id,\n",
        "            lang=lang,\n",
        "            country=country,\n",
        "            sort=sort,\n",
        "            filter_score_with=None,\n",
        "            continuation_token=continuation_token)\n",
        "        for review in result:\n",
        "            review_date = review['at']  # already in datetime format\n",
        "            if start_date <= review_date <= end_date:\n",
        "                all_reviews.append(review)\n",
        "            elif review_date < start_date:\n",
        "                return all_reviews\n",
        "        if not continuation_token:\n",
        "            break\n",
        "        # Add a small delay to avoid hitting server too hard\n",
        "        time.sleep(0.5)\n",
        "    return all_reviews\n",
        "# Define your date range\n",
        "start_date = datetime(2024, 7, 1)\n",
        "end_date = datetime(2024, 10, 1)\n",
        "\n",
        "# Fetch the reviews within the date range\n",
        "app_id = 'sinet.startup.inDriver'\n",
        "lang = 'id'\n",
        "country = 'id'\n",
        "sort = Sort.NEWEST\n",
        "filtered_reviews = fetch_reviews_within_date_range(app_id, lang, country, sort, start_date, end_date)\n",
        "# Convert to DataFrame for easier handling\n",
        "df = pd.DataFrame(filtered_reviews)\n",
        "print(df[['reviewId', 'userName', 'score', 'at', 'content']].head())\n"
      ],
      "metadata": {
        "colab": {
          "base_uri": "https://localhost:8080/"
        },
        "id": "cksdlRebpwZk",
        "outputId": "835e02ab-04d1-418c-8bdc-bb253dd3b802"
      },
      "execution_count": null,
      "outputs": [
        {
          "output_type": "stream",
          "name": "stdout",
          "text": [
            "                               reviewId                  userName  score  \\\n",
            "0  34b787d1-e79f-4512-932d-8fe78555e77b                 Sasa Sasa      3   \n",
            "1  5f37918c-4ddd-4ded-996c-3f0e916804ef              Oktavian 372      5   \n",
            "2  6d0af8f6-7cdb-458c-a24a-25d05fd68c5c  Tri Fandi Rezeki Damanik      3   \n",
            "3  77a3c9d4-b246-45f7-a834-decf1be040b9         Ade Gilang Ramadi      5   \n",
            "4  95974cdd-93fb-4f7a-a94d-28c0b30ca75b             Suwandi Wandi      5   \n",
            "\n",
            "                   at                                            content  \n",
            "0 2024-09-30 23:46:32  bagus si, tp sayang d tempatku DRIVER KLO ABIS...  \n",
            "1 2024-09-30 23:46:23                                                👍👍👍  \n",
            "2 2024-09-30 23:29:47  Apa apa serba mahal, tarif malah ditawar murah...  \n",
            "3 2024-09-30 21:01:03                                     Salam nyenderr  \n",
            "4 2024-09-30 20:38:56  Kenapa ya pencari singnal nya gak mutar diem t...  \n"
          ]
        }
      ]
    },
    {
      "cell_type": "code",
      "source": [
        "len(df)"
      ],
      "metadata": {
        "colab": {
          "base_uri": "https://localhost:8080/"
        },
        "id": "kiRSxGXgkYYz",
        "outputId": "ec90780f-b1e3-4a55-82b4-a62a60bccc36"
      },
      "execution_count": null,
      "outputs": [
        {
          "output_type": "execute_result",
          "data": {
            "text/plain": [
              "8465"
            ]
          },
          "metadata": {},
          "execution_count": 3
        }
      ]
    },
    {
      "cell_type": "code",
      "source": [
        "new_df = df[['reviewId', 'userName', 'score', 'at', 'content']]\n",
        "new_df.to_csv(\"UlasanInDriver_4bulan.csv\", index=False)"
      ],
      "metadata": {
        "id": "gwsxNd4Zuowc"
      },
      "execution_count": null,
      "outputs": []
    },
    {
      "cell_type": "markdown",
      "source": [
        "#Contoh Data"
      ],
      "metadata": {
        "id": "ZjfQPSQh-3ah"
      }
    },
    {
      "cell_type": "code",
      "source": [
        "# Renaming colum\n",
        "new_df.rename(columns={'score': 'bintang'}, inplace=True)\n",
        "new_df.rename(columns={'content': 'ulasan'}, inplace=True)\n",
        "\n",
        "# Creating a new DataFrame\n",
        "my_df = new_df[['bintang', 'ulasan']]\n",
        "\n",
        "# Mengacak data dengan mengambil 10 baris secara acak\n",
        "shuffled_df = my_df.sample(n=10)  # Ganti nilai random_state sesuai keinginan Anda\n",
        "\n",
        "# Menampilkan hasil pengacakan\n",
        "print(shuffled_df)"
      ],
      "metadata": {
        "colab": {
          "base_uri": "https://localhost:8080/"
        },
        "id": "bp4LNOuU8lLW",
        "outputId": "08ee805f-2e77-4739-dc8c-267e94f5d31e"
      },
      "execution_count": null,
      "outputs": [
        {
          "output_type": "stream",
          "name": "stdout",
          "text": [
            "      bintang                                             ulasan\n",
            "3694        5                   Ok.....sangat sopa.dan hati-hati\n",
            "1209        1                                    Segini dulu aja\n",
            "2176        4                 Semoga kedepannya lebih baik lagi.\n",
            "1107        3                   Pemunpangnya Blagu2 dan Ga sopan\n",
            "4037        1  sementara bintang 1, karna top up dompet penge...\n",
            "2782        5                                             MANTAP\n",
            "1464        5                                    good aplication\n",
            "3578        5  Hilangkan sistim pilih driver, hilangkan sisti...\n",
            "4963        5                  BAGUS BANGET DRIVERNYA PADA RAMAH\n",
            "561         5                                                 Ok\n"
          ]
        },
        {
          "output_type": "stream",
          "name": "stderr",
          "text": [
            "<ipython-input-23-641e91bed72a>:2: SettingWithCopyWarning: \n",
            "A value is trying to be set on a copy of a slice from a DataFrame\n",
            "\n",
            "See the caveats in the documentation: https://pandas.pydata.org/pandas-docs/stable/user_guide/indexing.html#returning-a-view-versus-a-copy\n",
            "  new_df.rename(columns={'score': 'bintang'}, inplace=True)\n",
            "<ipython-input-23-641e91bed72a>:3: SettingWithCopyWarning: \n",
            "A value is trying to be set on a copy of a slice from a DataFrame\n",
            "\n",
            "See the caveats in the documentation: https://pandas.pydata.org/pandas-docs/stable/user_guide/indexing.html#returning-a-view-versus-a-copy\n",
            "  new_df.rename(columns={'content': 'ulasan'}, inplace=True)\n"
          ]
        }
      ]
    },
    {
      "cell_type": "code",
      "source": [
        "shuffled_df.to_csv(\"ContohUlasan_10Data.csv\", index=False)"
      ],
      "metadata": {
        "id": "rJDNSiuo-2Sa"
      },
      "execution_count": null,
      "outputs": []
    }
  ]
}